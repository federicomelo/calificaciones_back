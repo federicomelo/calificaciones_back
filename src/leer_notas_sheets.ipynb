{
 "cells": [
  {
   "cell_type": "code",
   "execution_count": null,
   "metadata": {},
   "outputs": [],
   "source": [
    "from subject import Subject\n",
    "from semester import Semester\n",
    "from grade import Grade\n",
    "from model import persist_semester"
   ]
  },
  {
   "cell_type": "markdown",
   "id": "341f64ce",
   "metadata": {},
   "source": [
    "# Primer semestre"
   ]
  },
  {
   "cell_type": "code",
   "execution_count": 18,
   "id": "8c756188",
   "metadata": {},
   "outputs": [
    {
     "data": {
      "text/plain": [
       "4.81"
      ]
     },
     "execution_count": 18,
     "metadata": {},
     "output_type": "execute_result"
    }
   ],
   "source": [
    "from decimal import Decimal, ROUND_HALF_UP\n",
    "grade = 4.805\n",
    "rp = 0.01\n",
    "factor: Decimal = Decimal(1)/Decimal(rp)\n",
    "factor: float = 1/rp\n",
    "float(Decimal(grade * factor).quantize(0, ROUND_HALF_UP)) / factor"
   ]
  },
  {
   "cell_type": "code",
   "execution_count": null,
   "id": "68cf2a5e",
   "metadata": {},
   "outputs": [],
   "source": [
    "from re import split"
   ]
  },
  {
   "cell_type": "code",
   "execution_count": null,
   "id": "069daad8",
   "metadata": {},
   "outputs": [],
   "source": [
    "subject = \"\"\"MATE 1203, 4: Cálculo diferencial\tCalificación\t\tValor\t\n",
    "\tNota\tPorcentual\tPorcentual\tCréditos\n",
    "Taller 1: Límites\t4.60\t92.00%\t10.00%\t0.30\n",
    "Examen parcial 1: Límites\t5.00\t100.00%\t20.00%\t0.60\n",
    "Examen parcial 2: Derivadas\t5.00\t100.00%\t20.00%\t0.60\n",
    "Taller 2: Optimización\t4.90\t98.00%\t10.00%\t0.30\n",
    "Examen parcial 3: Antiderivadas e integral definida\t5.00\t100.00%\t20.00%\t0.60\n",
    "Examen final\t4.00\t80.00%\t20.00%\t0.60\n",
    "Nota final\t4.75\t95.00%\t100.00%\t3.00\n",
    "Nota final con aproximación a la milésima\t4.75\t95.00%\t100.00%\t\n",
    "Máxima nota final alcanzable a la fecha\t4.75\t95.00%\t100.00%\t\n",
    "Mínima nota final alcanzable a la fecha\t4.75\t95.00%\t100.00%\t\"\"\""
   ]
  },
  {
   "cell_type": "code",
   "execution_count": null,
   "id": "65f37b9f",
   "metadata": {},
   "outputs": [],
   "source": [
    "def read_grade(grade: str) -> Grade | None:\n",
    "    splitted = split(\"\\t\", grade)\n",
    "    name = splitted[0]\n",
    "    if name not in [\"Nota final\", \"Nota final con aproximación a la milésima\", \"Máxima nota final alcanzable a la fecha\", \"Mínima nota final alcanzable a la fecha\"]:\n",
    "        grade = float(splitted[1])\n",
    "        percentage = float(splitted[3][:-1])/100\n",
    "        return Grade(name, percentage, grade)\n",
    "    \n",
    "\n",
    "def read_subject(subject: str) -> Subject:\n",
    "    lines = split(\"\\n\", subject)\n",
    "    \n",
    "    titulo = lines[0].split()\n",
    "\n",
    "    codigo = titulo[0]+\" \"+titulo[1]\n",
    "    seccion = int(titulo[2][:-1])\n",
    "    nombre = \" \".join(titulo[3:-2])\n",
    "\n",
    "    resto = lines[2:]\n",
    "\n",
    "    grades = map(read_grade, resto)\n",
    "    grades = filter(lambda x: x is not None, grades)\n",
    "\n",
    "    subject = Subject(nombre, 3, codigo, seccion)\n",
    "\n",
    "    for grade in grades:\n",
    "        subject.add_grade(grade)\n",
    "\n",
    "    return subject\n",
    "\n",
    "subjects = map(read_subject, split(\"\\n\\t\\t\\t\\t\\n\\t\\t\\t\\t\\n\", first))\n",
    "semester = Semester(2020, 20)\n",
    "for subject in subjects:\n",
    "    semester.add_subject(subject)\n",
    "\n",
    "print(semester.as_dict())"
   ]
  },
  {
   "cell_type": "code",
   "execution_count": null,
   "id": "a3fa104a",
   "metadata": {},
   "outputs": [],
   "source": []
  }
 ],
 "metadata": {
  "kernelspec": {
   "display_name": "Python 3",
   "language": "python",
   "name": "python3"
  },
  "language_info": {
   "codemirror_mode": {
    "name": "ipython",
    "version": 3
   },
   "file_extension": ".py",
   "mimetype": "text/x-python",
   "name": "python",
   "nbconvert_exporter": "python",
   "pygments_lexer": "ipython3",
   "version": "3.10.6"
  },
  "vscode": {
   "interpreter": {
    "hash": "a6d09fe5a065595acafff06cf2cb84cb65acd7a21357348f75e2eec709596019"
   }
  }
 },
 "nbformat": 4,
 "nbformat_minor": 5
}
